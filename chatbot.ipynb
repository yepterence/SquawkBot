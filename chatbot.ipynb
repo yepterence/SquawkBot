{
 "cells": [
  {
   "cell_type": "code",
   "execution_count": 1,
   "metadata": {},
   "outputs": [],
   "source": [
    "import os \n",
    "import spacy \n",
    "import re\n",
    "import pandas as pd\n",
    "import json \n",
    "from spacy.tokenizer import Tokenizer\n",
    "from spacy.lang.en import English\n"
   ]
  },
  {
   "cell_type": "code",
   "execution_count": 2,
   "metadata": {},
   "outputs": [
    {
     "name": "stdout",
     "output_type": "stream",
     "text": [
      "{'intents': [{'tag': 'greeting', 'input': ['Hi', 'Hello', 'Good Morning', 'Good Evening', 'Hey'], 'responses': ['Hi', 'Hello', 'Good Morning', 'Good Evening', 'Hey']}, {'tag': 'goodbye', 'input': ['Goodbye', 'bye', 'see you later', 'later'], 'responses': ['Thank you, goodbye', 'goodbye', 'Have a nice day']}, {'tag': 'question', 'input': ['How', 'What', 'When', 'Why', 'Where'], 'responses': ['Sure, let me see what I can do', 'Sure, let me take a look', 'Right, let me check']}]}\n"
     ]
    }
   ],
   "source": [
    "FILEPATH = \"./content.json\"  \n",
    "\n",
    "with open(FILEPATH,'r') as f:\n",
    "    data = json.load(f)\n",
    "\n",
    "print(data)"
   ]
  },
  {
   "cell_type": "code",
   "execution_count": 10,
   "metadata": {},
   "outputs": [
    {
     "name": "stdout",
     "output_type": "stream",
     "text": [
      "[Hi, Hello, Good, Morning, Good, Evening, Hey, Goodbye, bye, see, you, later, later, How, What, When, Why, Where]\n",
      "['greeting', 'goodbye', 'question']\n",
      "[(Hi, 'greeting'), (Hello, 'greeting'), (Good Morning, 'greeting'), (Good Evening, 'greeting'), (Hey, 'greeting'), (Goodbye, 'goodbye'), (bye, 'goodbye'), (see you later, 'goodbye'), (later, 'goodbye'), (How, 'question'), (What, 'question'), (When, 'question'), (Why, 'question'), (Where, 'question')]\n"
     ]
    }
   ],
   "source": [
    "# initialize arrays \n",
    "corpus = []\n",
    "tags = []\n",
    "xy = []  # \n",
    "\n",
    "# initialize language object\n",
    "nlp = English()\n",
    "\n",
    "# initialize tokenizer\n",
    "tokenizer = Tokenizer(nlp.vocab)\n",
    "\n",
    "for intent in data['intents']: \n",
    "    tag = intent['tag']  # retrieve tags\n",
    "    tags.append(tag)  # append to list of tags\n",
    "    for pattern in intent['input']:\n",
    "        _words = tokenizer(pattern)\n",
    "        corpus.extend(_words)  # add to the list corpus, extend so that nested array is not formed\n",
    "        xy.append((_words, tag))    # tuple for label (w) and the corresp tag \n",
    "        \n",
    "print(corpus)\n",
    "print(tags)\n",
    "print(xy)"
   ]
  },
  {
   "cell_type": "code",
   "execution_count": null,
   "metadata": {},
   "outputs": [],
   "source": []
  }
 ],
 "metadata": {
  "kernelspec": {
   "display_name": "Python 3",
   "language": "python",
   "name": "python3"
  },
  "language_info": {
   "codemirror_mode": {
    "name": "ipython",
    "version": 3
   },
   "file_extension": ".py",
   "mimetype": "text/x-python",
   "name": "python",
   "nbconvert_exporter": "python",
   "pygments_lexer": "ipython3",
   "version": "3.8.3"
  }
 },
 "nbformat": 4,
 "nbformat_minor": 4
}
